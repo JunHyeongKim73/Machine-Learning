{
 "cells": [
  {
   "cell_type": "code",
   "execution_count": 1,
   "metadata": {},
   "outputs": [
    {
     "name": "stderr",
     "output_type": "stream",
     "text": [
      "ERROR: Could not find a version that satisfies the requirement tf-nightly-2.0-preview (from versions: none)\n",
      "ERROR: No matching distribution found for tf-nightly-2.0-preview\n"
     ]
    },
    {
     "name": "stdout",
     "output_type": "stream",
     "text": [
      "2.1.0\n"
     ]
    }
   ],
   "source": [
    "from __future__ import absolute_import, division, print_function, unicode_literals\n",
    "\n",
    "!pip install -q tf-nightly-2.0-preview\n",
    "import tensorflow as tf\n",
    "from tensorflow import keras\n",
    "\n",
    "import numpy as np\n",
    "\n",
    "print(tf.__version__)"
   ]
  },
  {
   "cell_type": "code",
   "execution_count": 2,
   "metadata": {},
   "outputs": [
    {
     "name": "stdout",
     "output_type": "stream",
     "text": [
      "Downloading data from https://storage.googleapis.com/tensorflow/tf-keras-datasets/imdb.npz\n",
      "17465344/17464789 [==============================] - 8s 0us/step\n"
     ]
    }
   ],
   "source": [
    "imdb = keras.datasets.imdb\n",
    "(train_data, train_labels), (test_data, test_labels) = imdb.load_data(num_words=10000)"
   ]
  },
  {
   "cell_type": "code",
   "execution_count": 6,
   "metadata": {},
   "outputs": [
    {
     "name": "stdout",
     "output_type": "stream",
     "text": [
      "[1, 14, 22, 16, 43, 530, 973, 1622, 1385, 65, 458, 4468, 66, 3941, 4, 173, 36, 256, 5, 25, 100, 43, 838, 112, 50, 670, 2, 9, 35, 480, 284, 5, 150, 4, 172, 112, 167, 2, 336, 385, 39, 4, 172, 4536, 1111, 17, 546, 38, 13, 447, 4, 192, 50, 16, 6, 147, 2025, 19, 14, 22, 4, 1920, 4613, 469, 4, 22, 71, 87, 12, 16, 43, 530, 38, 76, 15, 13, 1247, 4, 22, 17, 515, 17, 12, 16, 626, 18, 2, 5, 62, 386, 12, 8, 316, 8, 106, 5, 4, 2223, 5244, 16, 480, 66, 3785, 33, 4, 130, 12, 16, 38, 619, 5, 25, 124, 51, 36, 135, 48, 25, 1415, 33, 6, 22, 12, 215, 28, 77, 52, 5, 14, 407, 16, 82, 2, 8, 4, 107, 117, 5952, 15, 256, 4, 2, 7, 3766, 5, 723, 36, 71, 43, 530, 476, 26, 400, 317, 46, 7, 4, 2, 1029, 13, 104, 88, 4, 381, 15, 297, 98, 32, 2071, 56, 26, 141, 6, 194, 7486, 18, 4, 226, 22, 21, 134, 476, 26, 480, 5, 144, 30, 5535, 18, 51, 36, 28, 224, 92, 25, 104, 4, 226, 65, 16, 38, 1334, 88, 12, 16, 283, 5, 16, 4472, 113, 103, 32, 15, 16, 5345, 19, 178, 32]\n"
     ]
    }
   ],
   "source": [
    "print(train_data[0])"
   ]
  },
  {
   "cell_type": "code",
   "execution_count": 8,
   "metadata": {},
   "outputs": [
    {
     "data": {
      "text/plain": [
       "(218, 189)"
      ]
     },
     "execution_count": 8,
     "metadata": {},
     "output_type": "execute_result"
    }
   ],
   "source": [
    "len(train_data[0]), len(train_data[1])"
   ]
  },
  {
   "cell_type": "code",
   "execution_count": 9,
   "metadata": {},
   "outputs": [
    {
     "name": "stdout",
     "output_type": "stream",
     "text": [
      "Downloading data from https://storage.googleapis.com/tensorflow/tf-keras-datasets/imdb_word_index.json\n",
      "1646592/1641221 [==============================] - 1s 1us/step\n"
     ]
    }
   ],
   "source": [
    "word_index = imdb.get_word_index()\n",
    "\n",
    "word_index = {k:(v+3) for k,v in word_index.items()}\n",
    "word_index[\"<PAD>\"] = 0\n",
    "word_index[\"<START>\"] = 1\n",
    "word_index[\"<UNK>\"] = 2\n",
    "word_index[\"<UNUSED>\"] = 3\n",
    "\n",
    "reverse_word_index = dict([(value, key) for (key, value) in word_index.items()])\n",
    "\n",
    "def decode_review(text):\n",
    "    return ' '.join([reverse_word_index.get(i, '?') for i in text])"
   ]
  },
  {
   "cell_type": "code",
   "execution_count": 10,
   "metadata": {},
   "outputs": [
    {
     "data": {
      "text/plain": [
       "\"<START> this film was just brilliant casting location scenery story direction everyone's really suited the part they played and you could just imagine being there robert <UNK> is an amazing actor and now the same being director <UNK> father came from the same scottish island as myself so i loved the fact there was a real connection with this film the witty remarks throughout the film were great it was just brilliant so much that i bought the film as soon as it was released for <UNK> and would recommend it to everyone to watch and the fly fishing was amazing really cried at the end it was so sad and you know what they say if you cry at a film it must have been good and this definitely was also <UNK> to the two little boy's that played the <UNK> of norman and paul they were just brilliant children are often left out of the <UNK> list i think because the stars that play them all grown up are such a big profile for the whole film but these children are amazing and should be praised for what they have done don't you think the whole story was so lovely because it was true and was someone's life after all that was shared with us all\""
      ]
     },
     "execution_count": 10,
     "metadata": {},
     "output_type": "execute_result"
    }
   ],
   "source": [
    "decode_review(train_data[0])"
   ]
  },
  {
   "cell_type": "code",
   "execution_count": 11,
   "metadata": {},
   "outputs": [],
   "source": [
    "train_data = keras.preprocessing.sequence.pad_sequences(train_data,\n",
    "                                                        value=word_index[\"<PAD>\"],\n",
    "                                                        padding='post',\n",
    "                                                        maxlen=256)\n",
    "test_data = keras.preprocessing.sequence.pad_sequences(test_data,\n",
    "                                                       value=word_index[\"<PAD>\"],\n",
    "                                                       padding='post',\n",
    "                                                       maxlen=256)"
   ]
  },
  {
   "cell_type": "code",
   "execution_count": 12,
   "metadata": {},
   "outputs": [
    {
     "data": {
      "text/plain": [
       "(256, 256)"
      ]
     },
     "execution_count": 12,
     "metadata": {},
     "output_type": "execute_result"
    }
   ],
   "source": [
    "len(train_data[0]), len(test_data[0])"
   ]
  },
  {
   "cell_type": "code",
   "execution_count": 13,
   "metadata": {},
   "outputs": [
    {
     "name": "stdout",
     "output_type": "stream",
     "text": [
      "[   1   14   22   16   43  530  973 1622 1385   65  458 4468   66 3941\n",
      "    4  173   36  256    5   25  100   43  838  112   50  670    2    9\n",
      "   35  480  284    5  150    4  172  112  167    2  336  385   39    4\n",
      "  172 4536 1111   17  546   38   13  447    4  192   50   16    6  147\n",
      " 2025   19   14   22    4 1920 4613  469    4   22   71   87   12   16\n",
      "   43  530   38   76   15   13 1247    4   22   17  515   17   12   16\n",
      "  626   18    2    5   62  386   12    8  316    8  106    5    4 2223\n",
      " 5244   16  480   66 3785   33    4  130   12   16   38  619    5   25\n",
      "  124   51   36  135   48   25 1415   33    6   22   12  215   28   77\n",
      "   52    5   14  407   16   82    2    8    4  107  117 5952   15  256\n",
      "    4    2    7 3766    5  723   36   71   43  530  476   26  400  317\n",
      "   46    7    4    2 1029   13  104   88    4  381   15  297   98   32\n",
      " 2071   56   26  141    6  194 7486   18    4  226   22   21  134  476\n",
      "   26  480    5  144   30 5535   18   51   36   28  224   92   25  104\n",
      "    4  226   65   16   38 1334   88   12   16  283    5   16 4472  113\n",
      "  103   32   15   16 5345   19  178   32    0    0    0    0    0    0\n",
      "    0    0    0    0    0    0    0    0    0    0    0    0    0    0\n",
      "    0    0    0    0    0    0    0    0    0    0    0    0    0    0\n",
      "    0    0    0    0]\n"
     ]
    }
   ],
   "source": [
    "print(train_data[0])"
   ]
  },
  {
   "cell_type": "code",
   "execution_count": 17,
   "metadata": {},
   "outputs": [
    {
     "name": "stdout",
     "output_type": "stream",
     "text": [
      "Model: \"sequential_2\"\n",
      "_________________________________________________________________\n",
      "Layer (type)                 Output Shape              Param #   \n",
      "=================================================================\n",
      "embedding_1 (Embedding)      (None, None, 16)          160000    \n",
      "_________________________________________________________________\n",
      "global_average_pooling1d (Gl (None, 16)                0         \n",
      "_________________________________________________________________\n",
      "dense (Dense)                (None, 16)                272       \n",
      "_________________________________________________________________\n",
      "dense_1 (Dense)              (None, 1)                 17        \n",
      "=================================================================\n",
      "Total params: 160,289\n",
      "Trainable params: 160,289\n",
      "Non-trainable params: 0\n",
      "_________________________________________________________________\n"
     ]
    }
   ],
   "source": [
    "vocab_size = 10000\n",
    "\n",
    "model=keras.Sequential()\n",
    "model.add(keras.layers.Embedding(vocab_size, 16, input_shape=(None,)))\n",
    "model.add(keras.layers.GlobalAveragePooling1D())\n",
    "model.add(keras.layers.Dense(16, activation='relu'))\n",
    "model.add(keras.layers.Dense(1, activation='sigmoid'))\n",
    "\n",
    "model.summary()"
   ]
  },
  {
   "cell_type": "code",
   "execution_count": 18,
   "metadata": {},
   "outputs": [],
   "source": [
    "model.compile(optimizer='adam',\n",
    "              loss='binary_crossentropy',\n",
    "              metrics=['accuracy'])"
   ]
  },
  {
   "cell_type": "code",
   "execution_count": 19,
   "metadata": {},
   "outputs": [],
   "source": [
    "x_val = train_data[:10000]\n",
    "partial_x_train = train_data[10000:]\n",
    "\n",
    "y_val = train_labels[:10000]\n",
    "partial_y_train = train_labels[10000:]"
   ]
  },
  {
   "cell_type": "code",
   "execution_count": 20,
   "metadata": {},
   "outputs": [
    {
     "name": "stdout",
     "output_type": "stream",
     "text": [
      "Train on 15000 samples, validate on 10000 samples\n",
      "Epoch 1/40\n",
      "15000/15000 [==============================] - 3s 173us/sample - loss: 0.6914 - accuracy: 0.6002 - val_loss: 0.6890 - val_accuracy: 0.6625\n",
      "Epoch 2/40\n",
      "15000/15000 [==============================] - 1s 54us/sample - loss: 0.6843 - accuracy: 0.7315 - val_loss: 0.6795 - val_accuracy: 0.7389\n",
      "Epoch 3/40\n",
      "15000/15000 [==============================] - 1s 70us/sample - loss: 0.6703 - accuracy: 0.7562 - val_loss: 0.6622 - val_accuracy: 0.7554\n",
      "Epoch 4/40\n",
      "15000/15000 [==============================] - 1s 66us/sample - loss: 0.6463 - accuracy: 0.7725 - val_loss: 0.6351 - val_accuracy: 0.7697\n",
      "Epoch 5/40\n",
      "15000/15000 [==============================] - 1s 53us/sample - loss: 0.6117 - accuracy: 0.7917 - val_loss: 0.5989 - val_accuracy: 0.7845\n",
      "Epoch 6/40\n",
      "15000/15000 [==============================] - 1s 50us/sample - loss: 0.5685 - accuracy: 0.8125 - val_loss: 0.5572 - val_accuracy: 0.8035\n",
      "Epoch 7/40\n",
      "15000/15000 [==============================] - 1s 71us/sample - loss: 0.5211 - accuracy: 0.8290 - val_loss: 0.5143 - val_accuracy: 0.8189\n",
      "Epoch 8/40\n",
      "15000/15000 [==============================] - 1s 75us/sample - loss: 0.4746 - accuracy: 0.8455 - val_loss: 0.4732 - val_accuracy: 0.8289\n",
      "Epoch 9/40\n",
      "15000/15000 [==============================] - 1s 72us/sample - loss: 0.4304 - accuracy: 0.8597 - val_loss: 0.4368 - val_accuracy: 0.8420\n",
      "Epoch 10/40\n",
      "15000/15000 [==============================] - 1s 71us/sample - loss: 0.3918 - accuracy: 0.8722 - val_loss: 0.4061 - val_accuracy: 0.8504\n",
      "Epoch 11/40\n",
      "15000/15000 [==============================] - 1s 66us/sample - loss: 0.3590 - accuracy: 0.8822 - val_loss: 0.3814 - val_accuracy: 0.8575\n",
      "Epoch 12/40\n",
      "15000/15000 [==============================] - 1s 62us/sample - loss: 0.3316 - accuracy: 0.8903 - val_loss: 0.3619 - val_accuracy: 0.8634\n",
      "Epoch 13/40\n",
      "15000/15000 [==============================] - 1s 57us/sample - loss: 0.3086 - accuracy: 0.8940 - val_loss: 0.3464 - val_accuracy: 0.8668\n",
      "Epoch 14/40\n",
      "15000/15000 [==============================] - 1s 56us/sample - loss: 0.2888 - accuracy: 0.8996 - val_loss: 0.3341 - val_accuracy: 0.8709\n",
      "Epoch 15/40\n",
      "15000/15000 [==============================] - 1s 59us/sample - loss: 0.2721 - accuracy: 0.9058 - val_loss: 0.3235 - val_accuracy: 0.8743\n",
      "Epoch 16/40\n",
      "15000/15000 [==============================] - 1s 75us/sample - loss: 0.2572 - accuracy: 0.9113 - val_loss: 0.3150 - val_accuracy: 0.8761\n",
      "Epoch 17/40\n",
      "15000/15000 [==============================] - 1s 72us/sample - loss: 0.2428 - accuracy: 0.9155 - val_loss: 0.3084 - val_accuracy: 0.8785\n",
      "Epoch 18/40\n",
      "15000/15000 [==============================] - 1s 72us/sample - loss: 0.2304 - accuracy: 0.9202 - val_loss: 0.3029 - val_accuracy: 0.8798\n",
      "Epoch 19/40\n",
      "15000/15000 [==============================] - 1s 69us/sample - loss: 0.2191 - accuracy: 0.9241 - val_loss: 0.2981 - val_accuracy: 0.8806\n",
      "Epoch 20/40\n",
      "15000/15000 [==============================] - 1s 64us/sample - loss: 0.2086 - accuracy: 0.9277 - val_loss: 0.2945 - val_accuracy: 0.8827\n",
      "Epoch 21/40\n",
      "15000/15000 [==============================] - 1s 47us/sample - loss: 0.1991 - accuracy: 0.9317 - val_loss: 0.2916 - val_accuracy: 0.8833\n",
      "Epoch 22/40\n",
      "15000/15000 [==============================] - 1s 64us/sample - loss: 0.1902 - accuracy: 0.9358 - val_loss: 0.2894 - val_accuracy: 0.8837\n",
      "Epoch 23/40\n",
      "15000/15000 [==============================] - 1s 60us/sample - loss: 0.1817 - accuracy: 0.9393 - val_loss: 0.2875 - val_accuracy: 0.8842\n",
      "Epoch 24/40\n",
      "15000/15000 [==============================] - 1s 63us/sample - loss: 0.1737 - accuracy: 0.9435 - val_loss: 0.2870 - val_accuracy: 0.8842\n",
      "Epoch 25/40\n",
      "15000/15000 [==============================] - 1s 71us/sample - loss: 0.1663 - accuracy: 0.9469 - val_loss: 0.2858 - val_accuracy: 0.8845\n",
      "Epoch 26/40\n",
      "15000/15000 [==============================] - 1s 90us/sample - loss: 0.1592 - accuracy: 0.9495 - val_loss: 0.2856 - val_accuracy: 0.8857\n",
      "Epoch 27/40\n",
      "15000/15000 [==============================] - 1s 58us/sample - loss: 0.1526 - accuracy: 0.9527 - val_loss: 0.2856 - val_accuracy: 0.8858\n",
      "Epoch 28/40\n",
      "15000/15000 [==============================] - 1s 65us/sample - loss: 0.1465 - accuracy: 0.9551 - val_loss: 0.2866 - val_accuracy: 0.8861\n",
      "Epoch 29/40\n",
      "15000/15000 [==============================] - 1s 66us/sample - loss: 0.1403 - accuracy: 0.9581 - val_loss: 0.2876 - val_accuracy: 0.8856\n",
      "Epoch 30/40\n",
      "15000/15000 [==============================] - 1s 51us/sample - loss: 0.1350 - accuracy: 0.9599 - val_loss: 0.2886 - val_accuracy: 0.8871\n",
      "Epoch 31/40\n",
      "15000/15000 [==============================] - 1s 52us/sample - loss: 0.1293 - accuracy: 0.9621 - val_loss: 0.2906 - val_accuracy: 0.8857\n",
      "Epoch 32/40\n",
      "15000/15000 [==============================] - 1s 63us/sample - loss: 0.1248 - accuracy: 0.9635 - val_loss: 0.2919 - val_accuracy: 0.8855\n",
      "Epoch 33/40\n",
      "15000/15000 [==============================] - 1s 77us/sample - loss: 0.1197 - accuracy: 0.9653 - val_loss: 0.2938 - val_accuracy: 0.8850\n",
      "Epoch 34/40\n",
      "15000/15000 [==============================] - 1s 74us/sample - loss: 0.1148 - accuracy: 0.9677 - val_loss: 0.2957 - val_accuracy: 0.8845\n",
      "Epoch 35/40\n",
      "15000/15000 [==============================] - 1s 76us/sample - loss: 0.1106 - accuracy: 0.9692 - val_loss: 0.2984 - val_accuracy: 0.8864\n",
      "Epoch 36/40\n",
      "15000/15000 [==============================] - 1s 70us/sample - loss: 0.1062 - accuracy: 0.9707 - val_loss: 0.3006 - val_accuracy: 0.8843\n",
      "Epoch 37/40\n",
      "15000/15000 [==============================] - 1s 50us/sample - loss: 0.1019 - accuracy: 0.9719 - val_loss: 0.3053 - val_accuracy: 0.8825\n",
      "Epoch 38/40\n",
      "15000/15000 [==============================] - 1s 60us/sample - loss: 0.0983 - accuracy: 0.9733 - val_loss: 0.3081 - val_accuracy: 0.8819\n",
      "Epoch 39/40\n",
      "15000/15000 [==============================] - 1s 59us/sample - loss: 0.0941 - accuracy: 0.9751 - val_loss: 0.3098 - val_accuracy: 0.8826\n",
      "Epoch 40/40\n",
      "15000/15000 [==============================] - 1s 60us/sample - loss: 0.0906 - accuracy: 0.9770 - val_loss: 0.3136 - val_accuracy: 0.8811\n"
     ]
    }
   ],
   "source": [
    "history = model.fit(partial_x_train,\n",
    "                    partial_y_train,\n",
    "                    epochs=40,\n",
    "                    batch_size=512,\n",
    "                    validation_data=(x_val, y_val),\n",
    "                    verbose=1)"
   ]
  },
  {
   "cell_type": "code",
   "execution_count": 22,
   "metadata": {},
   "outputs": [
    {
     "name": "stdout",
     "output_type": "stream",
     "text": [
      "25000/25000 - 2s - loss: 0.3342 - accuracy: 0.8716\n",
      "[0.3341521054649353, 0.87156]\n"
     ]
    }
   ],
   "source": [
    "result = model.evaluate(test_data, test_labels, verbose=2)\n",
    "print(result)"
   ]
  },
  {
   "cell_type": "code",
   "execution_count": 25,
   "metadata": {},
   "outputs": [
    {
     "data": {
      "text/plain": [
       "dict_keys(['loss', 'accuracy', 'val_loss', 'val_accuracy'])"
      ]
     },
     "execution_count": 25,
     "metadata": {},
     "output_type": "execute_result"
    }
   ],
   "source": [
    "history_dict = history.history\n",
    "history_dict.keys()"
   ]
  },
  {
   "cell_type": "code",
   "execution_count": 28,
   "metadata": {},
   "outputs": [
    {
     "data": {
      "image/png": "[encoded data removed]",
      "text/plain": [
       "<Figure size 432x288 with 1 Axes>"
      ]
     },
     "metadata": {
      "needs_background": "light"
     },
     "output_type": "display_data"
    }
   ],
   "source": [
    "import matplotlib.pyplot as plt\n",
    "\n",
    "acc = history_dict['accuracy']\n",
    "val_acc = history_dict['val_accuracy']\n",
    "loss = history_dict['loss']\n",
    "val_loss = history_dict['val_loss']\n",
    "\n",
    "epochs = range(1, len(acc)+1)\n",
    "\n",
    "plt.plot(epochs, loss, 'bo', label='Training loss')\n",
    "\n",
    "plt.plot(epochs, val_loss, 'b', label='Validation loss')\n",
    "plt.title('Training and validation loss')\n",
    "plt.xlabel('Epochs')\n",
    "plt.ylabel('Loss')\n",
    "plt.legend()\n",
    "\n",
    "plt.show()"
   ]
  },
  {
   "cell_type": "code",
   "execution_count": 29,
   "metadata": {},
   "outputs": [
    {
     "data": {
      "image/png": "[encoded data removed]",
      "text/plain": [
       "<Figure size 432x288 with 1 Axes>"
      ]
     },
     "metadata": {
      "needs_background": "light"
     },
     "output_type": "display_data"
    }
   ],
   "source": [
    "plt.clf()\n",
    "\n",
    "plt.plot(epochs, acc, 'bo', label='Training acc')\n",
    "\n",
    "plt.plot(epochs, val_acc, 'b', label='Validation acc')\n",
    "plt.title('Training and validation acc')\n",
    "plt.xlabel('Epochs')\n",
    "plt.ylabel('Accuracy')\n",
    "plt.legend()\n",
    "\n",
    "plt.show()"
   ]
  },
  {
   "cell_type": "code",
   "execution_count": null,
   "metadata": {},
   "outputs": [],
   "source": []
  }
 ],
 "metadata": {
  "kernelspec": {
   "display_name": "Python 3",
   "language": "python",
   "name": "python3"
  },
  "language_info": {
   "codemirror_mode": {
    "name": "ipython",
    "version": 3
   },
   "file_extension": ".py",
   "mimetype": "text/x-python",
   "name": "python",
   "nbconvert_exporter": "python",
   "pygments_lexer": "ipython3",
   "version": "3.7.4"
  }
 },
 "nbformat": 4,
 "nbformat_minor": 2
}
