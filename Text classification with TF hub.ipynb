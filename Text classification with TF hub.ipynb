{
 "cells": [
  {
   "cell_type": "code",
   "execution_count": 1,
   "metadata": {},
   "outputs": [
    {
     "name": "stdout",
     "output_type": "stream",
     "text": [
      "버전:  2.1.0\n",
      "즉시 실행 모드:  True\n",
      "허브 버전:  0.7.0\n",
      "GPU  사용 불가능\n"
     ]
    }
   ],
   "source": [
    "from __future__ import absolute_import, division, print_function, unicode_literals\n",
    "\n",
    "import numpy as np\n",
    "\n",
    "import tensorflow as tf\n",
    "\n",
    "import tensorflow_hub as hub\n",
    "import tensorflow_datasets as tfds\n",
    "print(\"버전: \", tf.__version__)\n",
    "print(\"즉시 실행 모드: \", tf.executing_eagerly())\n",
    "print(\"허브 버전: \", hub.__version__)\n",
    "print(\"GPU \", \"사용 가능\" if tf.config.experimental.list_physical_devices(\"GPU\") else \"사용 불가능\")"
   ]
  },
  {
   "cell_type": "code",
   "execution_count": 17,
   "metadata": {},
   "outputs": [],
   "source": [
    "train_data, validation_data, test_data = tfds.load(\n",
    "    name=\"imdb_reviews\",\n",
    "    split=('train[:60%]', 'train[60%:]', 'test'),\n",
    "    as_supervised=True)"
   ]
  },
  {
   "cell_type": "code",
   "execution_count": 20,
   "metadata": {},
   "outputs": [
    {
     "data": {
      "text/plain": [
       "<tf.Tensor: shape=(10,), dtype=string, numpy=\n",
       "array([b'This is a big step down after the surprisingly enjoyable original. This sequel isn\\'t nearly as fun as part one, and it instead spends too much time on plot development. Tim Thomerson is still the best thing about this series, but his wisecracking is toned down in this entry. The performances are all adequate, but this time the script lets us down. The action is merely routine and the plot is only mildly interesting, so I need lots of silly laughs in order to stay entertained during a \"Trancers\" movie. Unfortunately, the laughs are few and far between, and so, this film is watchable at best.',\n",
       "       b\"Perhaps because I was so young, innocent and BRAINWASHED when I saw it, this movie was the cause of many sleepless nights for me. I haven't seen it since I was in seventh grade at a Presbyterian school, so I am not sure what effect it would have on me now. However, I will say that it left an impression on me... and most of my friends. It did serve its purpose, at least until we were old enough and knowledgeable enough to analyze and create our own opinions. I was particularly terrified of what the newly-converted post-rapture Christians had to endure when not receiving the mark of the beast. I don't want to spoil the movie for those who haven't seen it so I will not mention details of the scenes, but I can still picture them in my head... and it's been 19 years.\",\n",
       "       b'Hood of the Living Dead had a lot to live up to even before the opening credits began. First, any play on \"...of the living dead\" invokes His Holiness Mr. Romero and instantly sets up a high standard to which many movies cannot afford to aspire. And second, my movie-watching companion professed doubt that any urban horror film would surpass the seminal Leprechaun In the Hood. Skeptical, we settled in to watch. <br /><br />We were rewarded with a surprisingly sincere and good-hearted zombie film. Oh, certainly the budget is low, and of course the directors\\' amateurs friends populate the cast, but Hood of the Living Dead loves zombie cinema. Cheap? Yeah. But when it\\'s this cheap, you can clearly see where LOVE holds it together. <br /><br />Ricky works in a lab during the day and as a surrogate parent to his younger brother at night. He dreams of moving out of Oakland. Before this planned escape, however, his brother is shot to death in a drive-by. Ricky\\'s keen scientific mind presents an option superior to CPR or 911: injections of his lab\\'s experimental regenerative formula. Sadly, little bro wakes up in an ambulance as a bloodthirsty Oakland zombie! Chaos and mayhem! I think it\\'s more economical to eat your enemies than take vengeance in a drive-by, but then again, I\\'m a poor judge of the complexities of urban life. (How poor a judge? In response to a gory scene involving four men, I opined \"Ah-ha! White t-shirts on everyone so the blood shows up. Economical! I used the same technique in my own low-budget horror film.\" Jordan replied, \"No, that\\'s gang dress. White t-shirts were banned from New Orleans bars for a time as a result.\" Oh.)<br /><br />A lot of the movie is set in someone\\'s living room, so there\\'s a great deal of hanging out and waiting for the zombies. But the characters are sympathetic and the movie is sincere-- it surpasses its budget in spirit. <br /><br />Zombie explanation: When man plays God, zombies arise! Or, perhaps: Follow FDA-approved testing rules before human experimentation! <br /><br />Contribution to the zombie canon: This is the first zombie movie I\\'ve seen with a drive-by shooting. As far as the actual zombies go, infection is spread with a bite as usual, but quite unusually head shots don\\'t work-- it\\'s heart shots that kill. Zombies have pulses, the absence of which proves true death. And these zombies make pretty cool jaguar-growl noises. <br /><br />Gratuitous zombie movie in-joke: A mercenary named Romero. Groan. <br /><br />Favorite zombie: Jaguar-noise little brother zombie, of course!',\n",
       "       b\"For me this is a story that starts with some funny jokes regarding Franks fanatasies when he is travelling with a staircase and when he is sitting in business meetings... The problem is that when you have been watching this movie for an hour you will see the same fantasies/funny situations again and again and again. It is to predictable. It is more done as a TV story where you can go away and come back without missing anything.<br /><br />I like Felix Herngren as Frank but that is not enough even when it is a comedy it has to have more variations and some kind of message to it's audience....<br /><br />\",\n",
       "       b'This is not a bad movie. It follows the new conventions of modern horror, that is the movie within a movie, the well known actress running for her life in the first scene. This movie takes the old convention of a psycho killer on he loose, and manage to do something new, and interesting with it. It is also always nice to see Molly Ringwald back for the attack.<br /><br />So this might be an example of what the genre has become. Cut hits all the marks, and is actually scary in some parts. I liked it I gave it an eight.',\n",
       "       b\"I just finished a marathon of this series, and it became agonising to watch as it progressed. From the fictionalising of the historical elements, to O'Herlihy's awful accent in later episodes, the show just slumps the further it goes. If you are looking for some low quality production generalised WW2 fluff, then I could recommend season 1, but avoid anything after that, it degenerates into being one step from a soap opera, with increasingly worse story lines and sensibility.<br /><br />The old B&W film is by far the best of any form of entertainment with the Colditz name attached to it, and even that is not what one could hope for.\",\n",
       "       b'I am very sorry that this charming and whimsical film (which I first saw soon after it was first released in the early fifties) has had such a poor reception more recently. In my opinion it has been greatly underrated - but perhaps it appeals more to the European sense of humour than to (for example) the American: maybe we in Europe can understand and appreciate its subtleties and situations more, since we are closer to some of them in real life! Particular mention should be made of the limited but good music - especially the catchy and memorable song \"It\\'s a fine, fine night\", which was issued separately on an HMV 78rpm record (10 inch plum label, I think!) in the fifties. I would urge anyone interested to give it a try if you get the chance: you may have a pleasant surprise.',\n",
       "       b\"Well i am going to go against the grain on this film so it seems. Being a self confessed horror fan I sat down to this not quite knowing what to expect. After 2 or 3 mins i actually found myself scared (quite rare). The film obviously has a small budget and is set around charing cross station but the films lack of money does not distract from the story. Yes the story is a bit far fetched and doesn't explain itself very well but THE CREEP is a class act and proceeds to slash and dismember anything that comes its way. MESSAGE FOR LADIES !!! THERE ARE CERTAIN PARTS OF THE FILM YOU SHOULD CLOSE YOUR EYES AT OR AT LEAST CROSS YOUR LEGS !! you will understand when you see it.<br /><br />All in all a good film and it makes a change to see a good slasher movie that actually scares\",\n",
       "       b'Even 15 years after the end of the Vietnam war \"Jacknife\" came not too late or was even superfluous. It\\'s one of the few that try to deal with the second sad side of the war: The time after. Different from movies like \"Taxi driver\" or \"Rambo\" which use to present their main characters as broken heroes in a bad after war environment this movie allows the audience to face a different view on the Vietnam vets. Their development is shown very precisely before and especially after the war. The problems are obvious but in all this tragic there is always the feeling of some hope on the basis of love and friendship. \"Jacknife\" might be the quietest Vietnam movie ever but after almost 15 years this is really plausible and therefor justified. Moreover, it can make us believe that the war has not finished, yet; at least for some of us.<br /><br />The three main characters are amazing. De Niro has done one of his best jobs but Ed Harris is the star of this movie. Possibly,this was his best performance ever.',\n",
       "       b'Before I explain the \"Alias\" comment let me say that \"The Desert Trail\" is bad even by the standards of westerns staring The Three Stooges. In fact it features Carmen Laroux as semi- bad girl Juanita, when you hear her Mexican accent you will immediately recognize her as Senorita Rita from the classic Stooge short \"Saved by the Belle\". <br /><br />In \"The Desert Trail\" John Wayne gets to play the Moe Howard character and Eddy Chandler gets to play Curly Howard. Like their Stooge counterparts a running gag throughout the 53- minute movie is Moe hitting Curly. Wayne\\'s character, a skirt chasing bully, is not very endearing, but is supposed to be the good guy. <br /><br />Playing a traveling rodeo cowboy Wayne holds up the rodeo box office at gunpoint and takes the prize money he would have won if the attendance proceeds had been good-the other riders have to settle for 25 cents on the dollar (actually even less after Wayne robs the box office). No explanation is given for Wayne\\'s ripping off the riders and still being considered the hero who gets the girl. <br /><br />Things get complicated at this point because the villain (Al Ferguson) and his sidekick Larry Fine (played by Paul Fix-who would go on to play Sheriff Micah on television\\'s \"The Rifleman\") see Wayne rob the box office and then steal the remainder of the money and kill the rodeo manager. Moe and Curly get blamed. <br /><br />So Moe and Curly move to another town to get away from the law and they change their names to Smith and Jones. Who do they meet first but their old friend Larry, whose sister becomes the 2nd half love interest (Senorita Rita is left behind it the old town and makes no further appearances in the movie). <br /><br />Larry\\'s sister is nicely played by a radiantly beautiful Mary Kornman (now grown up but in her younger days she was one of the original cast members of Hal Roach\\'s \"Our Gang\" shorts). Kornman is the main reason to watch the mega-lame western and her scenes with Moe and Curly are much better than any others in the production, as if they used an entirely different crew to film them. <br /><br />Even for 1935 the action sequences in this thing are extremely weak and the technical film- making is staggeringly bad. The two main chase scenes end with stock footage wide shots of a rider falling from a horse. Both times the editor cuts to a shot of one of the characters rolling on the ground, but there is no horse in the frame, the film stock is completely different, and the character has on different clothes than the stunt rider. There is liberal use of stock footage in other places, none of it even remotely convincing. <br /><br />One thing to watch for is a scene midway into the movie where Moe and Curly get on their horses and ride away (to screen right) from a cabin as the posse is galloping toward the cabin from the left. The cameraman follows the two stooges with a slow pan right and then does a whip pan to the left to reveal the approaching posse. Outside of home movies I have never seen anything like this, not because it is looks stupid (which it does) but because a competent director would never stage a scene in this manner. They would film the two riders leaving and then reposition the camera and film the posse approaching as a separate action. Or if they were feeling creative they would stage the sequence so the camera shows the riders in the foreground and the posse approaching in the background. <br /><br />Then again, what do I know? I\\'m only a child.'],\n",
       "      dtype=object)>"
      ]
     },
     "execution_count": 20,
     "metadata": {},
     "output_type": "execute_result"
    }
   ],
   "source": [
    "train_examples_batch, train_labels_batch = next(iter(train_data.batch(10)))\n",
    "train_examples_batch"
   ]
  },
  {
   "cell_type": "code",
   "execution_count": 22,
   "metadata": {},
   "outputs": [
    {
     "data": {
      "text/plain": [
       "<tf.Tensor: shape=(10,), dtype=int64, numpy=array([0, 0, 1, 0, 1, 0, 1, 1, 1, 0], dtype=int64)>"
      ]
     },
     "execution_count": 22,
     "metadata": {},
     "output_type": "execute_result"
    }
   ],
   "source": [
    "train_labels_batch"
   ]
  },
  {
   "cell_type": "code",
   "execution_count": 23,
   "metadata": {},
   "outputs": [
    {
     "data": {
      "text/plain": [
       "<tf.Tensor: shape=(3, 20), dtype=float32, numpy=\n",
       "array([[ 2.209591  , -2.7093675 ,  3.6802928 , -1.0291991 , -4.1671185 ,\n",
       "        -2.4566064 , -2.2519937 , -0.36589956,  1.9485804 , -3.1104462 ,\n",
       "        -2.4610963 ,  1.3139242 , -0.9161584 , -0.16625322, -3.723651  ,\n",
       "         1.8498232 ,  3.499562  , -1.2373022 , -2.8403084 , -1.213074  ],\n",
       "       [ 1.9055302 , -4.11395   ,  3.6038654 ,  0.28555924, -4.658998  ,\n",
       "        -5.5433393 , -3.2735848 ,  1.9235417 ,  3.8461034 ,  1.5882455 ,\n",
       "        -2.64167   ,  0.76057523, -0.14820506,  0.9115291 , -6.45758   ,\n",
       "         2.3990374 ,  5.0985413 , -3.2776263 , -3.2652326 , -1.2345369 ],\n",
       "       [ 3.6510668 , -4.7066135 ,  4.71003   , -1.7002777 , -3.7708545 ,\n",
       "        -3.709126  , -4.222776  ,  1.946586  ,  6.1182513 , -2.7392752 ,\n",
       "        -5.4384456 ,  2.7078724 , -2.1263676 , -0.7084146 , -5.893995  ,\n",
       "         3.1602864 ,  3.8389287 , -3.318196  , -5.1542974 , -2.4051712 ]],\n",
       "      dtype=float32)>"
      ]
     },
     "execution_count": 23,
     "metadata": {},
     "output_type": "execute_result"
    }
   ],
   "source": [
    "embedding = \"https://tfhub.dev/google/tf2-preview/gnews-swivel-20dim/1\"\n",
    "hub_layer = hub.KerasLayer(embedding, input_shape=[], \n",
    "                           dtype=tf.string, trainable=True)\n",
    "hub_layer(train_examples_batch[:3])"
   ]
  },
  {
   "cell_type": "code",
   "execution_count": 24,
   "metadata": {},
   "outputs": [
    {
     "name": "stdout",
     "output_type": "stream",
     "text": [
      "Model: \"sequential\"\n",
      "_________________________________________________________________\n",
      "Layer (type)                 Output Shape              Param #   \n",
      "=================================================================\n",
      "keras_layer (KerasLayer)     (None, 20)                400020    \n",
      "_________________________________________________________________\n",
      "dense (Dense)                (None, 16)                336       \n",
      "_________________________________________________________________\n",
      "dense_1 (Dense)              (None, 1)                 17        \n",
      "=================================================================\n",
      "Total params: 400,373\n",
      "Trainable params: 400,373\n",
      "Non-trainable params: 0\n",
      "_________________________________________________________________\n"
     ]
    }
   ],
   "source": [
    "model = tf.keras.Sequential()\n",
    "model.add(hub_layer)\n",
    "model.add(tf.keras.layers.Dense(16, activation='relu'))\n",
    "model.add(tf.keras.layers.Dense(1))\n",
    "\n",
    "model.summary()"
   ]
  },
  {
   "cell_type": "code",
   "execution_count": 25,
   "metadata": {},
   "outputs": [],
   "source": [
    "model.compile(optimizer='adam',\n",
    "              loss='binary_crossentropy',\n",
    "              metrics=['accuracy'])"
   ]
  },
  {
   "cell_type": "code",
   "execution_count": 26,
   "metadata": {},
   "outputs": [
    {
     "name": "stdout",
     "output_type": "stream",
     "text": [
      "Epoch 1/20\n",
      "30/30 [==============================].0157 - accuracy: 0.59 - 2s 993ms/step - loss: 3.7712 - accuracy: 0.598 - 2s 685ms/step - loss: 3.8625 - accuracy: 0.588 - 2s 539ms/step - loss: 3.7962 - accuracy: 0.589 - 2s 449ms/step - loss: 3.8259 - accuracy: 0.586 - 2s 391ms/step - loss: 3.7529 - accuracy: 0.593 - 2s 350ms/step - loss: 3.7578 - accuracy: 0.592 - 3s 317ms/step - loss: 3.7615 - accuracy: 0.596 - 3s 293ms/step - loss: 3.7578 - accuracy: 0.596 - 3s 273ms/step - loss: 3.7231 - accuracy: 0.596 - 3s 258ms/step - loss: 3.7105 - accuracy: 0.592 - 3s 245ms/step - loss: 3.6652 - accuracy: 0.595 - 3s 234ms/step - loss: 3.6443 - accuracy: 0.598 - 3s 224ms/step - loss: 3.5890 - accuracy: 0.599 - 3s 216ms/step - loss: 3.6091 - accuracy: 0.597 - 3s 208ms/step - loss: 3.5674 - accuracy: 0.599 - 3s 203ms/step - loss: 3.5583 - accuracy: 0.598 - 4s 198ms/step - loss: 3.5688 - accuracy: 0.597 - 4s 197ms/step - loss: 3.5590 - accuracy: 0.597 - 4s 194ms/step - loss: 3.5794 - accuracy: 0.596 - 4s 191ms/step - loss: 3.5880 - accuracy: 0.594 - 4s 188ms/step - loss: 3.6018 - accuracy: 0.593 - 4s 186ms/step - loss: 3.6310 - accuracy: 0.591 - 4s 182ms/step - loss: 3.6600 - accuracy: 0.589 - 4s 179ms/step - loss: 3.6778 - accuracy: 0.588 - 5s 175ms/step - loss: 3.6910 - accuracy: 0.587 - 5s 171ms/step - loss: 3.7230 - accuracy: 0.586 - 5s 167ms/step - loss: 3.7483 - accuracy: 0.584 - 5s 163ms/step - loss: 3.7718 - accuracy: 0.583 - 5s 159ms/step - loss: 3.7705 - accuracy: 0.583 - 7s 217ms/step - loss: 3.7705 - accuracy: 0.5835 - val_loss: 4.1834 - val_accuracy: 0.5651\n",
      "Epoch 2/20\n",
      "30/30 [==============================] - ETA: 6s - loss: 3.6707 - accuracy: 0.55 - ETA: 4s - loss: 3.9264 - accuracy: 0.54 - ETA: 3s - loss: 4.2913 - accuracy: 0.53 - ETA: 3s - loss: 4.1688 - accuracy: 0.54 - ETA: 3s - loss: 4.1934 - accuracy: 0.54 - ETA: 3s - loss: 4.2166 - accuracy: 0.54 - ETA: 3s - loss: 4.2154 - accuracy: 0.54 - ETA: 3s - loss: 4.1405 - accuracy: 0.55 - ETA: 3s - loss: 4.1026 - accuracy: 0.55 - ETA: 2s - loss: 4.0444 - accuracy: 0.55 - ETA: 2s - loss: 3.9697 - accuracy: 0.56 - ETA: 2s - loss: 3.8912 - accuracy: 0.56 - ETA: 2s - loss: 3.8355 - accuracy: 0.56 - ETA: 2s - loss: 3.7866 - accuracy: 0.57 - ETA: 2s - loss: 3.7388 - accuracy: 0.57 - ETA: 2s - loss: 3.7125 - accuracy: 0.57 - ETA: 1s - loss: 3.6608 - accuracy: 0.57 - ETA: 1s - loss: 3.6354 - accuracy: 0.58 - ETA: 1s - loss: 3.5879 - accuracy: 0.58 - ETA: 1s - loss: 3.5759 - accuracy: 0.58 - ETA: 1s - loss: 3.5633 - accuracy: 0.58 - ETA: 1s - loss: 3.5573 - accuracy: 0.58 - ETA: 0s - loss: 3.5481 - accuracy: 0.58 - ETA: 0s - loss: 3.5296 - accuracy: 0.59 - ETA: 0s - loss: 3.5262 - accuracy: 0.59 - ETA: 0s - loss: 3.5210 - accuracy: 0.59 - ETA: 0s - loss: 3.5232 - accuracy: 0.59 - ETA: 0s - loss: 3.5234 - accuracy: 0.59 - ETA: 0s - loss: 3.5250 - accuracy: 0.59 - 5s 183ms/step - loss: 3.5038 - accuracy: 0.5943 - val_loss: 3.3902 - val_accuracy: 0.6160\n",
      "Epoch 3/20\n",
      "30/30 [==============================] - ETA: 5s - loss: 3.2288 - accuracy: 0.61 - ETA: 3s - loss: 3.2575 - accuracy: 0.61 - ETA: 2s - loss: 3.1998 - accuracy: 0.61 - ETA: 2s - loss: 3.2678 - accuracy: 0.61 - ETA: 2s - loss: 3.3453 - accuracy: 0.62 - ETA: 2s - loss: 3.3518 - accuracy: 0.62 - ETA: 2s - loss: 3.3340 - accuracy: 0.62 - ETA: 2s - loss: 3.2971 - accuracy: 0.61 - ETA: 2s - loss: 3.3195 - accuracy: 0.61 - ETA: 2s - loss: 3.2943 - accuracy: 0.61 - ETA: 1s - loss: 3.2758 - accuracy: 0.61 - ETA: 1s - loss: 3.2994 - accuracy: 0.61 - ETA: 1s - loss: 3.2994 - accuracy: 0.61 - ETA: 1s - loss: 3.2479 - accuracy: 0.62 - ETA: 1s - loss: 3.2507 - accuracy: 0.62 - ETA: 1s - loss: 3.2213 - accuracy: 0.62 - ETA: 1s - loss: 3.2101 - accuracy: 0.62 - ETA: 1s - loss: 3.2054 - accuracy: 0.62 - ETA: 1s - loss: 3.1844 - accuracy: 0.62 - ETA: 1s - loss: 3.1739 - accuracy: 0.62 - ETA: 0s - loss: 3.1755 - accuracy: 0.62 - ETA: 0s - loss: 3.1619 - accuracy: 0.62 - ETA: 0s - loss: 3.1588 - accuracy: 0.62 - ETA: 0s - loss: 3.1452 - accuracy: 0.62 - ETA: 0s - loss: 3.1291 - accuracy: 0.62 - ETA: 0s - loss: 3.1428 - accuracy: 0.62 - ETA: 0s - loss: 3.1562 - accuracy: 0.62 - ETA: 0s - loss: 3.1477 - accuracy: 0.62 - ETA: 0s - loss: 3.1345 - accuracy: 0.62 - 6s 197ms/step - loss: 3.1026 - accuracy: 0.6260 - val_loss: 2.9591 - val_accuracy: 0.6284\n",
      "Epoch 4/20\n",
      "30/30 [==============================] - ETA: 16s - loss: 2.6810 - accuracy: 0.660 - ETA: 9s - loss: 2.7636 - accuracy: 0.650 - ETA: 6s - loss: 2.9604 - accuracy: 0.63 - ETA: 5s - loss: 2.9581 - accuracy: 0.63 - ETA: 4s - loss: 2.9300 - accuracy: 0.63 - ETA: 4s - loss: 2.9494 - accuracy: 0.62 - ETA: 3s - loss: 2.9597 - accuracy: 0.62 - ETA: 3s - loss: 2.9596 - accuracy: 0.62 - ETA: 3s - loss: 2.8998 - accuracy: 0.63 - ETA: 2s - loss: 2.8753 - accuracy: 0.63 - ETA: 2s - loss: 2.8659 - accuracy: 0.63 - ETA: 2s - loss: 2.8672 - accuracy: 0.63 - ETA: 2s - loss: 2.8769 - accuracy: 0.63 - ETA: 2s - loss: 2.8991 - accuracy: 0.63 - ETA: 2s - loss: 2.8950 - accuracy: 0.63 - ETA: 1s - loss: 2.8871 - accuracy: 0.63 - ETA: 1s - loss: 2.9007 - accuracy: 0.63 - ETA: 1s - loss: 2.8798 - accuracy: 0.63 - ETA: 1s - loss: 2.8928 - accuracy: 0.63 - ETA: 1s - loss: 2.8834 - accuracy: 0.63 - ETA: 1s - loss: 2.8654 - accuracy: 0.63 - ETA: 1s - loss: 2.8821 - accuracy: 0.63 - ETA: 0s - loss: 2.8801 - accuracy: 0.63 - ETA: 0s - loss: 2.8833 - accuracy: 0.63 - ETA: 0s - loss: 2.8974 - accuracy: 0.63 - ETA: 0s - loss: 2.8998 - accuracy: 0.63 - ETA: 0s - loss: 2.9001 - accuracy: 0.63 - ETA: 0s - loss: 2.8920 - accuracy: 0.63 - ETA: 0s - loss: 2.8881 - accuracy: 0.63 - 5s 165ms/step - loss: 2.8741 - accuracy: 0.6318 - val_loss: 2.7730 - val_accuracy: 0.6295\n",
      "Epoch 5/20\n",
      "30/30 [==============================] - ETA: 9s - loss: 3.0291 - accuracy: 0.60 - ETA: 6s - loss: 3.0534 - accuracy: 0.61 - ETA: 4s - loss: 2.8459 - accuracy: 0.62 - ETA: 4s - loss: 2.8543 - accuracy: 0.62 - ETA: 3s - loss: 2.7812 - accuracy: 0.62 - ETA: 3s - loss: 2.7419 - accuracy: 0.62 - ETA: 3s - loss: 2.6788 - accuracy: 0.63 - ETA: 3s - loss: 2.6536 - accuracy: 0.63 - ETA: 2s - loss: 2.6251 - accuracy: 0.63 - ETA: 2s - loss: 2.6018 - accuracy: 0.64 - ETA: 2s - loss: 2.5990 - accuracy: 0.64 - ETA: 2s - loss: 2.5922 - accuracy: 0.64 - ETA: 2s - loss: 2.5896 - accuracy: 0.64 - ETA: 2s - loss: 2.5960 - accuracy: 0.64 - ETA: 2s - loss: 2.5773 - accuracy: 0.64 - ETA: 1s - loss: 2.5787 - accuracy: 0.64 - ETA: 1s - loss: 2.5471 - accuracy: 0.64 - ETA: 1s - loss: 2.5521 - accuracy: 0.64 - ETA: 1s - loss: 2.5628 - accuracy: 0.64 - ETA: 1s - loss: 2.5661 - accuracy: 0.64 - ETA: 1s - loss: 2.5766 - accuracy: 0.64 - ETA: 1s - loss: 2.5698 - accuracy: 0.64 - ETA: 1s - loss: 2.5647 - accuracy: 0.64 - ETA: 0s - loss: 2.5549 - accuracy: 0.64 - ETA: 0s - loss: 2.5383 - accuracy: 0.64 - ETA: 0s - loss: 2.5385 - accuracy: 0.64 - ETA: 0s - loss: 2.5362 - accuracy: 0.64 - ETA: 0s - loss: 2.5297 - accuracy: 0.64 - ETA: 0s - loss: 2.5267 - accuracy: 0.64 - 5s 182ms/step - loss: 2.5306 - accuracy: 0.6485 - val_loss: 2.5255 - val_accuracy: 0.6462\n",
      "Epoch 6/20\n"
     ]
    },
    {
     "name": "stdout",
     "output_type": "stream",
     "text": [
      "30/30 [==============================] - ETA: 6s - loss: 2.0538 - accuracy: 0.69 - ETA: 4s - loss: 2.2626 - accuracy: 0.65 - ETA: 3s - loss: 2.5168 - accuracy: 0.64 - ETA: 3s - loss: 2.4882 - accuracy: 0.64 - ETA: 2s - loss: 2.4753 - accuracy: 0.64 - ETA: 2s - loss: 2.4685 - accuracy: 0.65 - ETA: 2s - loss: 2.4171 - accuracy: 0.65 - ETA: 2s - loss: 2.4312 - accuracy: 0.65 - ETA: 2s - loss: 2.3970 - accuracy: 0.65 - ETA: 2s - loss: 2.3622 - accuracy: 0.65 - ETA: 2s - loss: 2.3547 - accuracy: 0.65 - ETA: 2s - loss: 2.3521 - accuracy: 0.65 - ETA: 2s - loss: 2.3436 - accuracy: 0.65 - ETA: 1s - loss: 2.3252 - accuracy: 0.65 - ETA: 1s - loss: 2.3156 - accuracy: 0.65 - ETA: 1s - loss: 2.3040 - accuracy: 0.65 - ETA: 1s - loss: 2.3128 - accuracy: 0.65 - ETA: 1s - loss: 2.3155 - accuracy: 0.65 - ETA: 1s - loss: 2.3253 - accuracy: 0.65 - ETA: 1s - loss: 2.3234 - accuracy: 0.65 - ETA: 1s - loss: 2.3202 - accuracy: 0.65 - ETA: 0s - loss: 2.3110 - accuracy: 0.65 - ETA: 0s - loss: 2.3118 - accuracy: 0.65 - ETA: 0s - loss: 2.3005 - accuracy: 0.65 - ETA: 0s - loss: 2.3005 - accuracy: 0.65 - ETA: 0s - loss: 2.2924 - accuracy: 0.65 - ETA: 0s - loss: 2.2952 - accuracy: 0.65 - ETA: 0s - loss: 2.2840 - accuracy: 0.65 - ETA: 0s - loss: 2.2773 - accuracy: 0.65 - 5s 178ms/step - loss: 2.2681 - accuracy: 0.6597 - val_loss: 2.2468 - val_accuracy: 0.6516\n",
      "Epoch 7/20\n",
      "30/30 [==============================] - ETA: 8s - loss: 2.0317 - accuracy: 0.66 - ETA: 5s - loss: 2.1014 - accuracy: 0.65 - ETA: 4s - loss: 2.1280 - accuracy: 0.65 - ETA: 3s - loss: 2.1200 - accuracy: 0.65 - ETA: 3s - loss: 2.0735 - accuracy: 0.65 - ETA: 3s - loss: 2.1380 - accuracy: 0.65 - ETA: 2s - loss: 2.1145 - accuracy: 0.65 - ETA: 2s - loss: 2.1597 - accuracy: 0.65 - ETA: 2s - loss: 2.1379 - accuracy: 0.65 - ETA: 2s - loss: 2.0902 - accuracy: 0.66 - ETA: 2s - loss: 2.0517 - accuracy: 0.66 - ETA: 2s - loss: 2.0653 - accuracy: 0.66 - ETA: 2s - loss: 2.0689 - accuracy: 0.66 - ETA: 1s - loss: 2.0649 - accuracy: 0.66 - ETA: 1s - loss: 2.0518 - accuracy: 0.66 - ETA: 1s - loss: 2.0496 - accuracy: 0.66 - ETA: 1s - loss: 2.0499 - accuracy: 0.66 - ETA: 1s - loss: 2.0633 - accuracy: 0.66 - ETA: 1s - loss: 2.0656 - accuracy: 0.66 - ETA: 1s - loss: 2.0787 - accuracy: 0.66 - ETA: 1s - loss: 2.0628 - accuracy: 0.66 - ETA: 0s - loss: 2.0687 - accuracy: 0.66 - ETA: 0s - loss: 2.0652 - accuracy: 0.66 - ETA: 0s - loss: 2.0605 - accuracy: 0.66 - ETA: 0s - loss: 2.0688 - accuracy: 0.66 - ETA: 0s - loss: 2.0609 - accuracy: 0.66 - ETA: 0s - loss: 2.0541 - accuracy: 0.66 - ETA: 0s - loss: 2.0479 - accuracy: 0.66 - ETA: 0s - loss: 2.0447 - accuracy: 0.66 - 5s 155ms/step - loss: 2.0421 - accuracy: 0.6682 - val_loss: 2.0402 - val_accuracy: 0.6595\n",
      "Epoch 8/20\n",
      "30/30 [==============================] - ETA: 5s - loss: 1.7796 - accuracy: 0.71 - ETA: 3s - loss: 1.8511 - accuracy: 0.66 - ETA: 2s - loss: 1.9658 - accuracy: 0.66 - ETA: 2s - loss: 1.9624 - accuracy: 0.66 - ETA: 2s - loss: 1.9803 - accuracy: 0.66 - ETA: 2s - loss: 1.9523 - accuracy: 0.66 - ETA: 2s - loss: 1.9151 - accuracy: 0.67 - ETA: 2s - loss: 1.9266 - accuracy: 0.67 - ETA: 1s - loss: 1.8919 - accuracy: 0.67 - ETA: 1s - loss: 1.9030 - accuracy: 0.67 - ETA: 1s - loss: 1.8903 - accuracy: 0.67 - ETA: 1s - loss: 1.8770 - accuracy: 0.67 - ETA: 1s - loss: 1.8801 - accuracy: 0.67 - ETA: 1s - loss: 1.8908 - accuracy: 0.67 - ETA: 1s - loss: 1.8920 - accuracy: 0.67 - ETA: 1s - loss: 1.8895 - accuracy: 0.68 - ETA: 1s - loss: 1.8974 - accuracy: 0.67 - ETA: 1s - loss: 1.8831 - accuracy: 0.67 - ETA: 1s - loss: 1.8779 - accuracy: 0.67 - ETA: 1s - loss: 1.8892 - accuracy: 0.67 - ETA: 1s - loss: 1.8877 - accuracy: 0.67 - ETA: 0s - loss: 1.8875 - accuracy: 0.67 - ETA: 0s - loss: 1.8713 - accuracy: 0.67 - ETA: 0s - loss: 1.8810 - accuracy: 0.67 - ETA: 0s - loss: 1.8742 - accuracy: 0.67 - ETA: 0s - loss: 1.8747 - accuracy: 0.67 - ETA: 0s - loss: 1.8756 - accuracy: 0.67 - ETA: 0s - loss: 1.8544 - accuracy: 0.67 - ETA: 0s - loss: 1.8522 - accuracy: 0.67 - 6s 188ms/step - loss: 1.8527 - accuracy: 0.6761 - val_loss: 1.8104 - val_accuracy: 0.6689\n",
      "Epoch 9/20\n",
      "30/30 [==============================] - ETA: 8s - loss: 1.6107 - accuracy: 0.68 - ETA: 5s - loss: 1.8632 - accuracy: 0.66 - ETA: 4s - loss: 1.8164 - accuracy: 0.66 - ETA: 3s - loss: 1.8260 - accuracy: 0.67 - ETA: 3s - loss: 1.9487 - accuracy: 0.67 - ETA: 3s - loss: 1.9498 - accuracy: 0.67 - ETA: 3s - loss: 2.0056 - accuracy: 0.67 - ETA: 2s - loss: 2.0421 - accuracy: 0.66 - ETA: 2s - loss: 2.0562 - accuracy: 0.66 - ETA: 2s - loss: 2.0658 - accuracy: 0.66 - ETA: 2s - loss: 2.0636 - accuracy: 0.66 - ETA: 2s - loss: 2.0588 - accuracy: 0.66 - ETA: 2s - loss: 2.0637 - accuracy: 0.66 - ETA: 2s - loss: 2.0643 - accuracy: 0.66 - ETA: 1s - loss: 2.0538 - accuracy: 0.67 - ETA: 1s - loss: 2.0512 - accuracy: 0.67 - ETA: 1s - loss: 2.0414 - accuracy: 0.67 - ETA: 1s - loss: 2.0469 - accuracy: 0.67 - ETA: 1s - loss: 2.0196 - accuracy: 0.67 - ETA: 1s - loss: 2.0172 - accuracy: 0.67 - ETA: 1s - loss: 2.0049 - accuracy: 0.67 - ETA: 0s - loss: 1.9800 - accuracy: 0.67 - ETA: 0s - loss: 1.9564 - accuracy: 0.67 - ETA: 0s - loss: 1.9479 - accuracy: 0.67 - ETA: 0s - loss: 1.9405 - accuracy: 0.67 - ETA: 0s - loss: 1.9244 - accuracy: 0.67 - ETA: 0s - loss: 1.9224 - accuracy: 0.67 - ETA: 0s - loss: 1.9314 - accuracy: 0.67 - ETA: 0s - loss: 1.9555 - accuracy: 0.67 - 5s 183ms/step - loss: 1.9650 - accuracy: 0.6742 - val_loss: 2.4066 - val_accuracy: 0.6322\n",
      "Epoch 10/20\n",
      "30/30 [==============================] - ETA: 7s - loss: 2.3788 - accuracy: 0.61 - ETA: 5s - loss: 2.4173 - accuracy: 0.64 - ETA: 4s - loss: 2.3479 - accuracy: 0.64 - ETA: 4s - loss: 2.3125 - accuracy: 0.63 - ETA: 3s - loss: 2.2945 - accuracy: 0.62 - ETA: 3s - loss: 2.2299 - accuracy: 0.63 - ETA: 3s - loss: 2.1867 - accuracy: 0.63 - ETA: 3s - loss: 2.1771 - accuracy: 0.64 - ETA: 3s - loss: 2.1129 - accuracy: 0.64 - ETA: 2s - loss: 2.0577 - accuracy: 0.65 - ETA: 2s - loss: 2.0046 - accuracy: 0.65 - ETA: 2s - loss: 1.9413 - accuracy: 0.66 - ETA: 2s - loss: 1.9425 - accuracy: 0.66 - ETA: 2s - loss: 1.9167 - accuracy: 0.66 - ETA: 2s - loss: 1.8910 - accuracy: 0.66 - ETA: 2s - loss: 1.8699 - accuracy: 0.66 - ETA: 1s - loss: 1.8518 - accuracy: 0.66 - ETA: 1s - loss: 1.8292 - accuracy: 0.66 - ETA: 1s - loss: 1.8092 - accuracy: 0.66 - ETA: 1s - loss: 1.7830 - accuracy: 0.67 - ETA: 1s - loss: 1.7711 - accuracy: 0.67 - ETA: 1s - loss: 1.7591 - accuracy: 0.67 - ETA: 0s - loss: 1.7400 - accuracy: 0.67 - ETA: 0s - loss: 1.7361 - accuracy: 0.67 - ETA: 0s - loss: 1.7236 - accuracy: 0.67 - ETA: 0s - loss: 1.7118 - accuracy: 0.67 - ETA: 0s - loss: 1.7039 - accuracy: 0.67 - ETA: 0s - loss: 1.7042 - accuracy: 0.67 - ETA: 0s - loss: 1.7029 - accuracy: 0.67 - 5s 159ms/step - loss: 1.7035 - accuracy: 0.6751 - val_loss: 1.7562 - val_accuracy: 0.6565\n",
      "Epoch 11/20\n",
      "30/30 [==============================] - ETA: 6s - loss: 1.7643 - accuracy: 0.64 - ETA: 4s - loss: 1.6640 - accuracy: 0.64 - ETA: 3s - loss: 1.6499 - accuracy: 0.65 - ETA: 3s - loss: 1.6886 - accuracy: 0.66 - ETA: 3s - loss: 1.7354 - accuracy: 0.65 - ETA: 3s - loss: 1.7563 - accuracy: 0.65 - ETA: 3s - loss: 1.8371 - accuracy: 0.65 - ETA: 3s - loss: 1.9983 - accuracy: 0.64 - ETA: 3s - loss: 2.1707 - accuracy: 0.63 - ETA: 2s - loss: 2.3634 - accuracy: 0.62 - ETA: 2s - loss: 2.5409 - accuracy: 0.62 - ETA: 2s - loss: 2.6759 - accuracy: 0.61 - ETA: 2s - loss: 2.8212 - accuracy: 0.60 - ETA: 2s - loss: 2.9259 - accuracy: 0.60 - ETA: 2s - loss: 3.0346 - accuracy: 0.60 - ETA: 2s - loss: 3.0915 - accuracy: 0.59 - ETA: 1s - loss: 3.1173 - accuracy: 0.59 - ETA: 1s - loss: 3.1337 - accuracy: 0.59 - ETA: 1s - loss: 3.1077 - accuracy: 0.59 - ETA: 1s - loss: 3.0135 - accuracy: 0.59 - ETA: 1s - loss: 2.9393 - accuracy: 0.60 - ETA: 1s - loss: 2.8709 - accuracy: 0.60 - ETA: 1s - loss: 2.8176 - accuracy: 0.60 - ETA: 0s - loss: 2.7649 - accuracy: 0.61 - ETA: 0s - loss: 2.7350 - accuracy: 0.61 - ETA: 0s - loss: 2.7309 - accuracy: 0.61 - ETA: 0s - loss: 2.7229 - accuracy: 0.61 - ETA: 0s - loss: 2.7435 - accuracy: 0.61 - ETA: 0s - loss: 2.7442 - accuracy: 0.61 - 6s 211ms/step - loss: 2.7878 - accuracy: 0.6095 - val_loss: 3.4086 - val_accuracy: 0.5765\n",
      "Epoch 12/20\n"
     ]
    },
    {
     "name": "stdout",
     "output_type": "stream",
     "text": [
      "30/30 [==============================] - ETA: 7s - loss: 3.0513 - accuracy: 0.61 - ETA: 5s - loss: 3.2582 - accuracy: 0.60 - ETA: 4s - loss: 3.3339 - accuracy: 0.60 - ETA: 3s - loss: 3.2202 - accuracy: 0.60 - ETA: 3s - loss: 3.1301 - accuracy: 0.60 - ETA: 3s - loss: 2.9393 - accuracy: 0.61 - ETA: 2s - loss: 2.8014 - accuracy: 0.62 - ETA: 2s - loss: 2.6404 - accuracy: 0.62 - ETA: 2s - loss: 2.5468 - accuracy: 0.63 - ETA: 2s - loss: 2.4132 - accuracy: 0.64 - ETA: 2s - loss: 2.3177 - accuracy: 0.65 - ETA: 2s - loss: 2.2572 - accuracy: 0.65 - ETA: 1s - loss: 2.2062 - accuracy: 0.65 - ETA: 1s - loss: 2.1322 - accuracy: 0.66 - ETA: 1s - loss: 2.0819 - accuracy: 0.66 - ETA: 1s - loss: 2.0422 - accuracy: 0.67 - ETA: 1s - loss: 2.0021 - accuracy: 0.67 - ETA: 1s - loss: 1.9703 - accuracy: 0.67 - ETA: 1s - loss: 1.9429 - accuracy: 0.67 - ETA: 1s - loss: 1.9249 - accuracy: 0.67 - ETA: 1s - loss: 1.8886 - accuracy: 0.67 - ETA: 0s - loss: 1.8581 - accuracy: 0.67 - ETA: 0s - loss: 1.8350 - accuracy: 0.68 - ETA: 0s - loss: 1.8180 - accuracy: 0.68 - ETA: 0s - loss: 1.8008 - accuracy: 0.68 - ETA: 0s - loss: 1.7783 - accuracy: 0.68 - ETA: 0s - loss: 1.7683 - accuracy: 0.68 - ETA: 0s - loss: 1.7667 - accuracy: 0.68 - ETA: 0s - loss: 1.7416 - accuracy: 0.68 - 5s 160ms/step - loss: 1.7093 - accuracy: 0.6875 - val_loss: 1.4629 - val_accuracy: 0.6987\n",
      "Epoch 13/20\n",
      "30/30 [==============================] - ETA: 7s - loss: 1.4950 - accuracy: 0.71 - ETA: 5s - loss: 1.3738 - accuracy: 0.71 - ETA: 5s - loss: 1.3814 - accuracy: 0.71 - ETA: 5s - loss: 1.3866 - accuracy: 0.71 - ETA: 4s - loss: 1.3713 - accuracy: 0.71 - ETA: 4s - loss: 1.3422 - accuracy: 0.71 - ETA: 4s - loss: 1.3437 - accuracy: 0.72 - ETA: 4s - loss: 1.3322 - accuracy: 0.72 - ETA: 3s - loss: 1.3169 - accuracy: 0.72 - ETA: 3s - loss: 1.3276 - accuracy: 0.72 - ETA: 3s - loss: 1.3090 - accuracy: 0.72 - ETA: 3s - loss: 1.3178 - accuracy: 0.72 - ETA: 2s - loss: 1.3121 - accuracy: 0.72 - ETA: 2s - loss: 1.3222 - accuracy: 0.72 - ETA: 2s - loss: 1.3302 - accuracy: 0.72 - ETA: 2s - loss: 1.3411 - accuracy: 0.72 - ETA: 2s - loss: 1.3266 - accuracy: 0.72 - ETA: 1s - loss: 1.3263 - accuracy: 0.72 - ETA: 1s - loss: 1.3337 - accuracy: 0.72 - ETA: 1s - loss: 1.3246 - accuracy: 0.72 - ETA: 1s - loss: 1.3099 - accuracy: 0.72 - ETA: 1s - loss: 1.3115 - accuracy: 0.72 - ETA: 1s - loss: 1.3071 - accuracy: 0.72 - ETA: 0s - loss: 1.3101 - accuracy: 0.72 - ETA: 0s - loss: 1.2985 - accuracy: 0.72 - ETA: 0s - loss: 1.2918 - accuracy: 0.72 - ETA: 0s - loss: 1.2949 - accuracy: 0.72 - ETA: 0s - loss: 1.2932 - accuracy: 0.72 - ETA: 0s - loss: 1.2867 - accuracy: 0.72 - 5s 177ms/step - loss: 1.2801 - accuracy: 0.7220 - val_loss: 1.3127 - val_accuracy: 0.7017\n",
      "Epoch 14/20\n",
      "30/30 [==============================] - ETA: 5s - loss: 1.2396 - accuracy: 0.72 - ETA: 3s - loss: 1.2846 - accuracy: 0.72 - ETA: 3s - loss: 1.2562 - accuracy: 0.71 - ETA: 2s - loss: 1.1931 - accuracy: 0.72 - ETA: 2s - loss: 1.2071 - accuracy: 0.71 - ETA: 2s - loss: 1.2329 - accuracy: 0.71 - ETA: 1s - loss: 1.2065 - accuracy: 0.72 - ETA: 1s - loss: 1.2139 - accuracy: 0.72 - ETA: 1s - loss: 1.1911 - accuracy: 0.72 - ETA: 1s - loss: 1.1764 - accuracy: 0.72 - ETA: 1s - loss: 1.1993 - accuracy: 0.72 - ETA: 1s - loss: 1.2261 - accuracy: 0.72 - ETA: 1s - loss: 1.2246 - accuracy: 0.72 - ETA: 1s - loss: 1.2088 - accuracy: 0.72 - ETA: 1s - loss: 1.2054 - accuracy: 0.72 - ETA: 1s - loss: 1.2069 - accuracy: 0.72 - ETA: 1s - loss: 1.2132 - accuracy: 0.72 - ETA: 1s - loss: 1.2103 - accuracy: 0.72 - ETA: 1s - loss: 1.2124 - accuracy: 0.72 - ETA: 0s - loss: 1.2008 - accuracy: 0.72 - ETA: 0s - loss: 1.1985 - accuracy: 0.72 - ETA: 0s - loss: 1.2046 - accuracy: 0.72 - ETA: 0s - loss: 1.1878 - accuracy: 0.72 - ETA: 0s - loss: 1.1792 - accuracy: 0.72 - ETA: 0s - loss: 1.1807 - accuracy: 0.72 - ETA: 0s - loss: 1.1884 - accuracy: 0.72 - ETA: 0s - loss: 1.1933 - accuracy: 0.72 - ETA: 0s - loss: 1.1936 - accuracy: 0.72 - ETA: 0s - loss: 1.2010 - accuracy: 0.72 - 5s 169ms/step - loss: 1.1969 - accuracy: 0.7236 - val_loss: 1.4969 - val_accuracy: 0.6856\n",
      "Epoch 15/20\n",
      "30/30 [==============================] - ETA: 9s - loss: 1.3519 - accuracy: 0.74 - ETA: 6s - loss: 1.3332 - accuracy: 0.72 - ETA: 4s - loss: 1.4749 - accuracy: 0.72 - ETA: 4s - loss: 1.4968 - accuracy: 0.71 - ETA: 4s - loss: 1.4704 - accuracy: 0.71 - ETA: 4s - loss: 1.4354 - accuracy: 0.71 - ETA: 3s - loss: 1.4236 - accuracy: 0.71 - ETA: 3s - loss: 1.3912 - accuracy: 0.71 - ETA: 3s - loss: 1.3457 - accuracy: 0.71 - ETA: 3s - loss: 1.3230 - accuracy: 0.71 - ETA: 3s - loss: 1.3066 - accuracy: 0.71 - ETA: 2s - loss: 1.3029 - accuracy: 0.71 - ETA: 2s - loss: 1.2834 - accuracy: 0.72 - ETA: 2s - loss: 1.2638 - accuracy: 0.72 - ETA: 2s - loss: 1.2524 - accuracy: 0.72 - ETA: 1s - loss: 1.2461 - accuracy: 0.72 - ETA: 1s - loss: 1.2508 - accuracy: 0.72 - ETA: 1s - loss: 1.2388 - accuracy: 0.72 - ETA: 1s - loss: 1.2423 - accuracy: 0.72 - ETA: 1s - loss: 1.2305 - accuracy: 0.72 - ETA: 1s - loss: 1.2295 - accuracy: 0.72 - ETA: 1s - loss: 1.2309 - accuracy: 0.72 - ETA: 0s - loss: 1.2190 - accuracy: 0.72 - ETA: 0s - loss: 1.2169 - accuracy: 0.72 - ETA: 0s - loss: 1.2071 - accuracy: 0.72 - ETA: 0s - loss: 1.1959 - accuracy: 0.72 - ETA: 0s - loss: 1.1948 - accuracy: 0.72 - ETA: 0s - loss: 1.1903 - accuracy: 0.72 - ETA: 0s - loss: 1.1912 - accuracy: 0.72 - 6s 193ms/step - loss: 1.2096 - accuracy: 0.7242 - val_loss: 1.6385 - val_accuracy: 0.6779\n",
      "Epoch 16/20\n",
      "30/30 [==============================] - ETA: 15s - loss: 1.1758 - accuracy: 0.728 - ETA: 9s - loss: 1.4194 - accuracy: 0.704 - ETA: 7s - loss: 1.4607 - accuracy: 0.70 - ETA: 6s - loss: 1.5034 - accuracy: 0.69 - ETA: 5s - loss: 1.5426 - accuracy: 0.69 - ETA: 5s - loss: 1.5212 - accuracy: 0.69 - ETA: 4s - loss: 1.5498 - accuracy: 0.68 - ETA: 4s - loss: 1.5783 - accuracy: 0.68 - ETA: 4s - loss: 1.5867 - accuracy: 0.68 - ETA: 3s - loss: 1.6120 - accuracy: 0.68 - ETA: 3s - loss: 1.5998 - accuracy: 0.68 - ETA: 3s - loss: 1.6164 - accuracy: 0.68 - ETA: 3s - loss: 1.6234 - accuracy: 0.68 - ETA: 2s - loss: 1.6184 - accuracy: 0.68 - ETA: 2s - loss: 1.5991 - accuracy: 0.69 - ETA: 2s - loss: 1.5903 - accuracy: 0.69 - ETA: 2s - loss: 1.5644 - accuracy: 0.69 - ETA: 2s - loss: 1.5401 - accuracy: 0.69 - ETA: 1s - loss: 1.5269 - accuracy: 0.70 - ETA: 1s - loss: 1.4945 - accuracy: 0.70 - ETA: 1s - loss: 1.4574 - accuracy: 0.70 - ETA: 1s - loss: 1.4415 - accuracy: 0.70 - ETA: 1s - loss: 1.4325 - accuracy: 0.70 - ETA: 1s - loss: 1.4241 - accuracy: 0.70 - ETA: 0s - loss: 1.4089 - accuracy: 0.70 - ETA: 0s - loss: 1.4052 - accuracy: 0.70 - ETA: 0s - loss: 1.4043 - accuracy: 0.70 - ETA: 0s - loss: 1.3963 - accuracy: 0.70 - ETA: 0s - loss: 1.3922 - accuracy: 0.70 - 6s 194ms/step - loss: 1.3888 - accuracy: 0.7079 - val_loss: 1.5202 - val_accuracy: 0.6815\n",
      "Epoch 17/20\n",
      "30/30 [==============================] - ETA: 5s - loss: 1.2818 - accuracy: 0.68 - ETA: 3s - loss: 1.2453 - accuracy: 0.70 - ETA: 3s - loss: 1.3013 - accuracy: 0.70 - ETA: 3s - loss: 1.2847 - accuracy: 0.70 - ETA: 3s - loss: 1.3185 - accuracy: 0.70 - ETA: 2s - loss: 1.3253 - accuracy: 0.70 - ETA: 2s - loss: 1.3265 - accuracy: 0.71 - ETA: 2s - loss: 1.2805 - accuracy: 0.72 - ETA: 2s - loss: 1.2552 - accuracy: 0.72 - ETA: 2s - loss: 1.2348 - accuracy: 0.72 - ETA: 2s - loss: 1.2174 - accuracy: 0.72 - ETA: 2s - loss: 1.2092 - accuracy: 0.73 - ETA: 2s - loss: 1.2002 - accuracy: 0.73 - ETA: 2s - loss: 1.1796 - accuracy: 0.73 - ETA: 1s - loss: 1.1756 - accuracy: 0.73 - ETA: 1s - loss: 1.1709 - accuracy: 0.73 - ETA: 1s - loss: 1.1741 - accuracy: 0.73 - ETA: 1s - loss: 1.1561 - accuracy: 0.73 - ETA: 1s - loss: 1.1536 - accuracy: 0.73 - ETA: 1s - loss: 1.1421 - accuracy: 0.73 - ETA: 1s - loss: 1.1289 - accuracy: 0.73 - ETA: 1s - loss: 1.1225 - accuracy: 0.73 - ETA: 0s - loss: 1.1110 - accuracy: 0.73 - ETA: 0s - loss: 1.1005 - accuracy: 0.74 - ETA: 0s - loss: 1.0894 - accuracy: 0.74 - ETA: 0s - loss: 1.0848 - accuracy: 0.74 - ETA: 0s - loss: 1.0810 - accuracy: 0.74 - ETA: 0s - loss: 1.0744 - accuracy: 0.74 - ETA: 0s - loss: 1.0713 - accuracy: 0.74 - 6s 195ms/step - loss: 1.0618 - accuracy: 0.7441 - val_loss: 1.0776 - val_accuracy: 0.7306\n",
      "Epoch 18/20\n"
     ]
    },
    {
     "name": "stdout",
     "output_type": "stream",
     "text": [
      "30/30 [==============================] - ETA: 7s - loss: 0.8982 - accuracy: 0.76 - ETA: 4s - loss: 0.8128 - accuracy: 0.76 - ETA: 3s - loss: 0.8996 - accuracy: 0.75 - ETA: 3s - loss: 0.9541 - accuracy: 0.74 - ETA: 3s - loss: 0.9693 - accuracy: 0.75 - ETA: 2s - loss: 0.9507 - accuracy: 0.75 - ETA: 2s - loss: 0.9729 - accuracy: 0.75 - ETA: 2s - loss: 0.9585 - accuracy: 0.75 - ETA: 2s - loss: 0.9553 - accuracy: 0.75 - ETA: 2s - loss: 0.9575 - accuracy: 0.75 - ETA: 2s - loss: 0.9594 - accuracy: 0.75 - ETA: 1s - loss: 0.9632 - accuracy: 0.75 - ETA: 1s - loss: 0.9708 - accuracy: 0.75 - ETA: 1s - loss: 0.9718 - accuracy: 0.75 - ETA: 1s - loss: 0.9649 - accuracy: 0.75 - ETA: 1s - loss: 0.9753 - accuracy: 0.75 - ETA: 1s - loss: 0.9709 - accuracy: 0.75 - ETA: 1s - loss: 0.9776 - accuracy: 0.75 - ETA: 1s - loss: 0.9721 - accuracy: 0.75 - ETA: 1s - loss: 0.9862 - accuracy: 0.75 - ETA: 0s - loss: 0.9781 - accuracy: 0.75 - ETA: 0s - loss: 0.9840 - accuracy: 0.75 - ETA: 0s - loss: 0.9744 - accuracy: 0.75 - ETA: 0s - loss: 0.9658 - accuracy: 0.75 - ETA: 0s - loss: 0.9541 - accuracy: 0.75 - ETA: 0s - loss: 0.9481 - accuracy: 0.75 - ETA: 0s - loss: 0.9455 - accuracy: 0.75 - ETA: 0s - loss: 0.9379 - accuracy: 0.75 - ETA: 0s - loss: 0.9434 - accuracy: 0.75 - 5s 152ms/step - loss: 0.9447 - accuracy: 0.7563 - val_loss: 1.0105 - val_accuracy: 0.7277\n",
      "Epoch 19/20\n",
      "30/30 [==============================] - ETA: 9s - loss: 0.9159 - accuracy: 0.77 - ETA: 6s - loss: 0.9085 - accuracy: 0.75 - ETA: 5s - loss: 0.8577 - accuracy: 0.75 - ETA: 5s - loss: 0.8744 - accuracy: 0.75 - ETA: 4s - loss: 0.8507 - accuracy: 0.75 - ETA: 4s - loss: 0.8138 - accuracy: 0.75 - ETA: 4s - loss: 0.8216 - accuracy: 0.75 - ETA: 3s - loss: 0.8170 - accuracy: 0.75 - ETA: 3s - loss: 0.8122 - accuracy: 0.76 - ETA: 3s - loss: 0.8303 - accuracy: 0.75 - ETA: 3s - loss: 0.8466 - accuracy: 0.75 - ETA: 2s - loss: 0.8394 - accuracy: 0.75 - ETA: 2s - loss: 0.8581 - accuracy: 0.75 - ETA: 2s - loss: 0.8542 - accuracy: 0.75 - ETA: 2s - loss: 0.8568 - accuracy: 0.75 - ETA: 2s - loss: 0.8604 - accuracy: 0.75 - ETA: 1s - loss: 0.8621 - accuracy: 0.75 - ETA: 1s - loss: 0.8585 - accuracy: 0.75 - ETA: 1s - loss: 0.8638 - accuracy: 0.75 - ETA: 1s - loss: 0.8554 - accuracy: 0.75 - ETA: 1s - loss: 0.8488 - accuracy: 0.75 - ETA: 1s - loss: 0.8443 - accuracy: 0.75 - ETA: 0s - loss: 0.8461 - accuracy: 0.75 - ETA: 0s - loss: 0.8409 - accuracy: 0.75 - ETA: 0s - loss: 0.8447 - accuracy: 0.75 - ETA: 0s - loss: 0.8322 - accuracy: 0.75 - ETA: 0s - loss: 0.8276 - accuracy: 0.75 - ETA: 0s - loss: 0.8255 - accuracy: 0.75 - ETA: 0s - loss: 0.8245 - accuracy: 0.75 - 5s 167ms/step - loss: 0.8261 - accuracy: 0.7580 - val_loss: 0.9136 - val_accuracy: 0.7331\n",
      "Epoch 20/20\n",
      "30/30 [==============================] - ETA: 7s - loss: 0.8569 - accuracy: 0.76 - ETA: 4s - loss: 0.7521 - accuracy: 0.76 - ETA: 3s - loss: 0.7755 - accuracy: 0.76 - ETA: 3s - loss: 0.7583 - accuracy: 0.76 - ETA: 2s - loss: 0.7976 - accuracy: 0.76 - ETA: 2s - loss: 0.7824 - accuracy: 0.77 - ETA: 2s - loss: 0.7944 - accuracy: 0.76 - ETA: 2s - loss: 0.8127 - accuracy: 0.76 - ETA: 2s - loss: 0.8082 - accuracy: 0.76 - ETA: 2s - loss: 0.8113 - accuracy: 0.76 - ETA: 2s - loss: 0.8374 - accuracy: 0.76 - ETA: 2s - loss: 0.8640 - accuracy: 0.76 - ETA: 2s - loss: 0.8734 - accuracy: 0.75 - ETA: 1s - loss: 0.8999 - accuracy: 0.75 - ETA: 1s - loss: 0.9053 - accuracy: 0.74 - ETA: 1s - loss: 0.9174 - accuracy: 0.74 - ETA: 1s - loss: 0.9239 - accuracy: 0.74 - ETA: 1s - loss: 0.9286 - accuracy: 0.74 - ETA: 1s - loss: 0.9269 - accuracy: 0.74 - ETA: 1s - loss: 0.9238 - accuracy: 0.74 - ETA: 0s - loss: 0.9129 - accuracy: 0.74 - ETA: 0s - loss: 0.8958 - accuracy: 0.74 - ETA: 0s - loss: 0.8866 - accuracy: 0.74 - ETA: 0s - loss: 0.8807 - accuracy: 0.75 - ETA: 0s - loss: 0.8773 - accuracy: 0.74 - ETA: 0s - loss: 0.8704 - accuracy: 0.75 - ETA: 0s - loss: 0.8674 - accuracy: 0.75 - ETA: 0s - loss: 0.8621 - accuracy: 0.75 - ETA: 0s - loss: 0.8588 - accuracy: 0.75 - 5s 176ms/step - loss: 0.8657 - accuracy: 0.7514 - val_loss: 0.9542 - val_accuracy: 0.7212\n"
     ]
    }
   ],
   "source": [
    "history = model.fit(train_data.shuffle(1000).batch(512),\n",
    "                    epochs=20,\n",
    "                    validation_data=validation_data.batch(512),\n",
    "                    verbose=1)"
   ]
  },
  {
   "cell_type": "code",
   "execution_count": 28,
   "metadata": {},
   "outputs": [
    {
     "name": "stdout",
     "output_type": "stream",
     "text": [
      "loss: 1.037\n",
      "accuracy: 0.713\n"
     ]
    }
   ],
   "source": [
    "results = model.evaluate(test_data.batch(512), verbose=2)\n",
    "for name, value in zip(model.metrics_names, results):\n",
    "    print(\"%s: %.3f\" % (name, value))"
   ]
  }
 ],
 "metadata": {
  "kernelspec": {
   "display_name": "Python 3",
   "language": "python",
   "name": "python3"
  },
  "language_info": {
   "codemirror_mode": {
    "name": "ipython",
    "version": 3
   },
   "file_extension": ".py",
   "mimetype": "text/x-python",
   "name": "python",
   "nbconvert_exporter": "python",
   "pygments_lexer": "ipython3",
   "version": "3.7.4"
  }
 },
 "nbformat": 4,
 "nbformat_minor": 2
}
